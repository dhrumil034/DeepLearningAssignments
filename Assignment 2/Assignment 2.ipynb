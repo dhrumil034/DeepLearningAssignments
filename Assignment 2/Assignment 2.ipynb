{
 "cells": [
  {
   "cell_type": "markdown",
   "metadata": {},
   "source": [
    "# Assignment 2 #"
   ]
  },
  {
   "cell_type": "markdown",
   "metadata": {},
   "source": [
    "## step 1##\n",
    "In first part of this task we have added the libraries that we are going to use ."
   ]
  },
  {
   "cell_type": "code",
   "execution_count": 1,
   "metadata": {},
   "outputs": [],
   "source": [
    "import torch\n",
    "from torch.autograd import Variable\n",
    "import torch.utils.data as Data\n",
    "import torch.optim  as optim\n",
    "import pandas as pd\n",
    "import matplotlib.pyplot as plt\n",
    "%matplotlib inline"
   ]
  },
  {
   "cell_type": "code",
   "execution_count": 2,
   "metadata": {},
   "outputs": [],
   "source": [
    "import numpy as np\n",
    "import imageio"
   ]
  },
  {
   "cell_type": "code",
   "execution_count": 3,
   "metadata": {},
   "outputs": [
    {
     "data": {
      "text/plain": [
       "<torch._C.Generator at 0x10d081950>"
      ]
     },
     "execution_count": 3,
     "metadata": {},
     "output_type": "execute_result"
    }
   ],
   "source": [
    "torch.manual_seed(1)"
   ]
  },
  {
   "cell_type": "markdown",
   "metadata": {},
   "source": [
    "## Step 2 ##\n",
    "Reading the Data in the CSV file\n",
    "I have used \"Metro Interstate Traffic Volume Data Set\" from UCI (https://archive.ics.uci.edu/ml/datasets/Metro+Interstate+Traffic+Volume)."
   ]
  },
  {
   "cell_type": "code",
   "execution_count": 4,
   "metadata": {},
   "outputs": [],
   "source": [
    "df = pd.read_csv('Metro_Interstate_Traffic_Volume.csv',sep=',')"
   ]
  },
  {
   "cell_type": "markdown",
   "metadata": {},
   "source": [
    "## step 3 ##\n",
    "Map functions to transform input Columns.\n",
    "In map_hoiday function I have classified non-holiday days as a 0 . \n",
    "In map_time function since traffic depends on the time of the day I have mapped date and time to hour of the day. \n",
    "and converted that string to Int."
   ]
  },
  {
   "cell_type": "code",
   "execution_count": 5,
   "metadata": {},
   "outputs": [],
   "source": [
    "def map_holiday(x):\n",
    "    if x==\"None\":\n",
    "        return 0\n",
    "    else:\n",
    "        return 1\n",
    "def map_time(x):\n",
    "    y = x.split(' ')\n",
    "    hour = y[1].split(\":\")[0]\n",
    "    return int(hour)"
   ]
  },
  {
   "cell_type": "code",
   "execution_count": 6,
   "metadata": {},
   "outputs": [],
   "source": [
    "df['holiday'] = df['holiday'].map(map_holiday)\n",
    "df['hour']= df['date_time'].map(map_time)"
   ]
  },
  {
   "cell_type": "code",
   "execution_count": 7,
   "metadata": {},
   "outputs": [
    {
     "data": {
      "text/html": [
       "<div>\n",
       "<style scoped>\n",
       "    .dataframe tbody tr th:only-of-type {\n",
       "        vertical-align: middle;\n",
       "    }\n",
       "\n",
       "    .dataframe tbody tr th {\n",
       "        vertical-align: top;\n",
       "    }\n",
       "\n",
       "    .dataframe thead th {\n",
       "        text-align: right;\n",
       "    }\n",
       "</style>\n",
       "<table border=\"1\" class=\"dataframe\">\n",
       "  <thead>\n",
       "    <tr style=\"text-align: right;\">\n",
       "      <th></th>\n",
       "      <th>holiday</th>\n",
       "      <th>temp</th>\n",
       "      <th>rain_1h</th>\n",
       "      <th>snow_1h</th>\n",
       "      <th>clouds_all</th>\n",
       "      <th>hour</th>\n",
       "    </tr>\n",
       "  </thead>\n",
       "  <tbody>\n",
       "    <tr>\n",
       "      <th>0</th>\n",
       "      <td>0</td>\n",
       "      <td>288.28</td>\n",
       "      <td>0.0</td>\n",
       "      <td>0.0</td>\n",
       "      <td>40</td>\n",
       "      <td>9</td>\n",
       "    </tr>\n",
       "    <tr>\n",
       "      <th>1</th>\n",
       "      <td>0</td>\n",
       "      <td>289.36</td>\n",
       "      <td>0.0</td>\n",
       "      <td>0.0</td>\n",
       "      <td>75</td>\n",
       "      <td>10</td>\n",
       "    </tr>\n",
       "    <tr>\n",
       "      <th>2</th>\n",
       "      <td>0</td>\n",
       "      <td>289.58</td>\n",
       "      <td>0.0</td>\n",
       "      <td>0.0</td>\n",
       "      <td>90</td>\n",
       "      <td>11</td>\n",
       "    </tr>\n",
       "    <tr>\n",
       "      <th>3</th>\n",
       "      <td>0</td>\n",
       "      <td>290.13</td>\n",
       "      <td>0.0</td>\n",
       "      <td>0.0</td>\n",
       "      <td>90</td>\n",
       "      <td>12</td>\n",
       "    </tr>\n",
       "    <tr>\n",
       "      <th>4</th>\n",
       "      <td>0</td>\n",
       "      <td>291.14</td>\n",
       "      <td>0.0</td>\n",
       "      <td>0.0</td>\n",
       "      <td>75</td>\n",
       "      <td>13</td>\n",
       "    </tr>\n",
       "  </tbody>\n",
       "</table>\n",
       "</div>"
      ],
      "text/plain": [
       "   holiday    temp  rain_1h  snow_1h  clouds_all  hour\n",
       "0        0  288.28      0.0      0.0          40     9\n",
       "1        0  289.36      0.0      0.0          75    10\n",
       "2        0  289.58      0.0      0.0          90    11\n",
       "3        0  290.13      0.0      0.0          90    12\n",
       "4        0  291.14      0.0      0.0          75    13"
      ]
     },
     "execution_count": 7,
     "metadata": {},
     "output_type": "execute_result"
    }
   ],
   "source": [
    "y= df[['traffic_volume']]\n",
    "df=df.drop(['weather_description', 'date_time','weather_main','traffic_volume'], axis=1)\n",
    "df.head()"
   ]
  },
  {
   "cell_type": "code",
   "execution_count": 29,
   "metadata": {},
   "outputs": [
    {
     "name": "stdout",
     "output_type": "stream",
     "text": [
      "<class 'pandas.core.frame.DataFrame'>\n",
      "RangeIndex: 48204 entries, 0 to 48203\n",
      "Data columns (total 6 columns):\n",
      " #   Column      Non-Null Count  Dtype  \n",
      "---  ------      --------------  -----  \n",
      " 0   holiday     48204 non-null  float64\n",
      " 1   temp        48204 non-null  float64\n",
      " 2   rain_1h     48204 non-null  float64\n",
      " 3   snow_1h     48204 non-null  float64\n",
      " 4   clouds_all  48204 non-null  float64\n",
      " 5   hour        48204 non-null  float64\n",
      "dtypes: float64(6)\n",
      "memory usage: 2.2 MB\n"
     ]
    }
   ],
   "source": [
    "df.info()"
   ]
  },
  {
   "cell_type": "markdown",
   "metadata": {},
   "source": [
    "## step 4 ##\n",
    "Helper function to convert numpy array and data frame to tensor. "
   ]
  },
  {
   "cell_type": "code",
   "execution_count": 10,
   "metadata": {},
   "outputs": [],
   "source": [
    "def get_device():\n",
    "    if torch.cuda.is_available():\n",
    "        device = torch.device('cuda:0')\n",
    "    else:\n",
    "        device = torch.device('cpu') # don't have GPU \n",
    "    return device\n",
    "\n",
    "# convert a df to tensor to be used in pytorch\n",
    "def df_to_tensor(df):\n",
    "    device = get_device()\n",
    "    return torch.from_numpy(df.values).float().to(device)\n",
    "\n",
    "def numpy_array_to_tensor(array):\n",
    "    device = get_device()\n",
    "    return torch.from_numpy(array).float().to(device)"
   ]
  },
  {
   "cell_type": "markdown",
   "metadata": {},
   "source": [
    "## step 5 ##\n",
    "Converting all input and output to min max scale inorder to avoid problem with gradient descent. Also have converted input\n",
    "data into training data and testing data."
   ]
  },
  {
   "cell_type": "code",
   "execution_count": 11,
   "metadata": {},
   "outputs": [],
   "source": [
    "from sklearn.model_selection import train_test_split\n",
    "from sklearn.preprocessing import MinMaxScaler\n",
    "\n",
    "scaler = MinMaxScaler()\n",
    "df[[\"holiday\", \"temp\",\"rain_1h\",\"snow_1h\",\"clouds_all\",\"hour\"]] = scaler.fit_transform(df[[\"holiday\", \"temp\",\"rain_1h\",\"snow_1h\",\"clouds_all\",\"hour\"]])\n",
    "y= scaler.fit_transform(y)\n",
    "\n",
    "x_train,x_test,y_train,y_test = train_test_split(df,y, test_size=0.3, random_state=108, shuffle=True)\n",
    "\n",
    "x_train = df_to_tensor(x_train)\n",
    "x_test = df_to_tensor(x_test)\n",
    "y_train = numpy_array_to_tensor(y_train)\n",
    "y_test = numpy_array_to_tensor(y_test)\n",
    "\n",
    "                "
   ]
  },
  {
   "cell_type": "code",
   "execution_count": 12,
   "metadata": {},
   "outputs": [
    {
     "name": "stdout",
     "output_type": "stream",
     "text": [
      "torch.Size([33742, 6])\n"
     ]
    }
   ],
   "source": [
    "print(x_train.shape)"
   ]
  },
  {
   "cell_type": "markdown",
   "metadata": {},
   "source": [
    "## step 6 ##\n",
    "converting input data into Dataset class so that it becomes easier to iterate through data. "
   ]
  },
  {
   "cell_type": "code",
   "execution_count": 18,
   "metadata": {},
   "outputs": [],
   "source": [
    "from torch.utils.data import Dataset, DataLoader\n",
    "class MetroTrafficDataset(Dataset):\n",
    "    def __init__(self,x,y):\n",
    "        self.x = x\n",
    "        self.y = y\n",
    "    \n",
    "    def __len__(self):\n",
    "        return len(self.y)\n",
    "    \n",
    "    def __getitem__(self,index):\n",
    "        return self.x[index],self.y[index]\n",
    "        "
   ]
  },
  {
   "cell_type": "code",
   "execution_count": 20,
   "metadata": {},
   "outputs": [],
   "source": [
    "train_dataset = MetroTrafficDataset(x_train,y_train)\n",
    "train_loader = DataLoader(dataset=train_dataset,shuffle=True)"
   ]
  },
  {
   "cell_type": "code",
   "execution_count": 21,
   "metadata": {},
   "outputs": [],
   "source": [
    "test_dataset = MetroTrafficDataset(x_test,y_test)\n",
    "test_loader = DataLoader(dataset=test_dataset,shuffle=True)"
   ]
  },
  {
   "cell_type": "markdown",
   "metadata": {},
   "source": [
    "## step 7 ##\n",
    "In this part we have created feed forward neural with one hiddern layer. We have increased number of hidden layers from 12 to 22 . We will analyse the effect of increasing number of weights ( hidden nodes) on the test accuracy and computation time"
   ]
  },
  {
   "cell_type": "code",
   "execution_count": null,
   "metadata": {},
   "outputs": [],
   "source": [
    "from torch import nn\n",
    "from torchvision import transforms\n",
    "import math\n",
    "import time\n",
    "\n",
    "input_size = 6\n",
    "output_size = 1\n",
    "number_of_hidden_weights = []\n",
    "mse = []\n",
    "execution_time = []\n",
    "\n",
    "for i in range(12,23):\n",
    "    start_time = time.time()\n",
    "    hidden_size = i\n",
    "    number_of_hidden_weights.append(i)\n",
    "    model = nn.Sequential(nn.Linear(input_size,hidden_size),\n",
    "                          nn.Sigmoid(),\n",
    "                          nn.Linear(hidden_size,output_size))\n",
    "    learning_rate = 1e-4\n",
    "    criterion = nn.MSELoss() \n",
    "    optimizer = optim.SGD(model.parameters(),learning_rate)\n",
    "    epochs = 50\n",
    "    training_loss = []\n",
    "    testing_loss = []\n",
    "    \n",
    "    for e in range(epochs):\n",
    "        running_loss = 0\n",
    "        validation_loss = 0\n",
    "        for (x,y) in train_dataset:\n",
    "            optimizer.zero_grad()\n",
    "            output = model(x)\n",
    "            loss = criterion(output,y)\n",
    "            loss.backward()\n",
    "            optimizer.step()\n",
    "            running_loss += loss.item()\n",
    "        training_loss.append(running_loss/len(train_dataset))        \n",
    "        for (x,y) in test_dataset:\n",
    "            output = model(x)\n",
    "            loss = criterion(output,y)\n",
    "            validation_loss += loss.item()\n",
    "        testing_loss.append(validation_loss/len(test_dataset))\n",
    "        \n",
    "    final_validation_loss = 0\n",
    "    for  (x,y) in test_dataset:\n",
    "        output = model(x)\n",
    "        loss = criterion(output,y)\n",
    "        final_validation_loss += loss.item()\n",
    "    mse.append(final_validation_loss/len(test_dataset))\n",
    "    execution_time.append(time.time() - start_time)   \n",
    "    print(\" number of nodes \"+str(i)+\" completed\")"
   ]
  },
  {
   "cell_type": "code",
   "execution_count": 57,
   "metadata": {},
   "outputs": [],
   "source": [
    "## used google cloud to compute these values \n",
    "number_of_hidden_weights = [12, 13, 14, 15, 16, 17, 18, 19, 20, 21, 22]\n",
    "mse = [  0.06535685116498412,\n",
    "         0.06558049777128858,\n",
    "         0.06602509308330091,\n",
    "         0.06520813539615378,\n",
    "         0.06587133263652445,\n",
    "         0.06582415924962963,\n",
    "         0.06540124572473573,\n",
    "         0.06580578248743946,\n",
    "         0.06596272711059707,\n",
    "         0.06624991728323112,\n",
    "         0.06510090883159922]\n",
    "execution_time= [596.4495434761047,\n",
    "                 595.1032502651215,\n",
    "                 599.3165354728699,\n",
    "                 597.792896270752,\n",
    "                 587.302487373352,\n",
    "                 593.2548427581787,\n",
    "                 618.0256435871124,\n",
    "                 636.8949129581451,\n",
    "                 638.3954246044159,\n",
    "                 644.5234076976776,\n",
    "                 642.758133649826]"
   ]
  },
  {
   "cell_type": "code",
   "execution_count": 58,
   "metadata": {},
   "outputs": [
    {
     "data": {
      "image/png": "[encoded data removed]",
      "text/plain": [
       "<Figure size 432x288 with 2 Axes>"
      ]
     },
     "metadata": {
      "needs_background": "light"
     },
     "output_type": "display_data"
    }
   ],
   "source": [
    "fig, ax1 = plt.subplots()\n",
    "\n",
    "ax2 = ax1.twinx()\n",
    "ax1.plot(number_of_hidden_weights, mse, 'g-')\n",
    "ax2.plot(number_of_hidden_weights, execution_time, 'b-')\n",
    "\n",
    "ax1.set_xlabel('Number of Hidden Weights')\n",
    "ax1.set_ylabel('MSE', color='g')\n",
    "ax2.set_ylabel('Computation Time', color='b')\n",
    "\n",
    "plt.show()\n"
   ]
  },
  {
   "cell_type": "markdown",
   "metadata": {},
   "source": [
    "## Ans 1 ##\n",
    "As we can see from the above graph there is no constant effect from the number of hidden nodes on either mse or computation time required to train the model. We get the best test MSE when the number of hidden layers is 22 . While computation time is minimum when the number of hidden nodes is 16 . The dataset that I have used for regression is pretty small (around 45000) rows . So the amount of change in MSE after increasing the number of hidden nodes is pretty negligible . So On 4 core CPU with 8 GB of RAM it takes around 10 minutes to get reasonable accuracy. "
   ]
  },
  {
   "cell_type": "markdown",
   "metadata": {},
   "source": [
    "## Step 8 ##\n",
    "In this step we have created class named MutiLayerNeuralNetwork which contains the different neural network models. In this step we will anlyse the effect of increasing number of layer on accuracy and computation time required to train these networks"
   ]
  },
  {
   "cell_type": "code",
   "execution_count": 43,
   "metadata": {},
   "outputs": [],
   "source": [
    "class MutiLayerNeuralNetwork:\n",
    "    \n",
    "    def __init__(self, input_size,output_size):\n",
    "        self.input_size = input_size\n",
    "        self.output_size = output_size\n",
    "    \n",
    "    def get_1_layer_model(self): \n",
    "        hidden_sizes = [12]\n",
    "        model = nn.Sequential(nn.Linear(self.input_size,hidden_sizes[0]),\n",
    "                               nn.Sigmoid(),\n",
    "                               nn.Linear(hidden_sizes[0],self.output_size))\n",
    "        return model\n",
    "    \n",
    "    def get_2_layer_model(self): \n",
    "        hidden_sizes = [6,12]\n",
    "        model = nn.Sequential(nn.Linear(self.input_size,hidden_sizes[0]),\n",
    "                              nn.Sigmoid(),\n",
    "                              nn.Linear(hidden_sizes[0],hidden_sizes[1]),\n",
    "                              nn.Sigmoid(),\n",
    "                              nn.Linear(hidden_sizes[1],self.output_size))\n",
    "        return model\n",
    "    \n",
    "    def get_3_layer_model(self): \n",
    "        hidden_sizes = [6,12,24]\n",
    "        model = nn.Sequential(nn.Linear(self.input_size,hidden_sizes[0]),\n",
    "                              nn.Sigmoid(),\n",
    "                              nn.Linear(hidden_sizes[0],hidden_sizes[1]),\n",
    "                              nn.Sigmoid(),\n",
    "                              nn.Linear(hidden_sizes[1],hidden_sizes[2]),\n",
    "                              nn.Sigmoid(),\n",
    "                              nn.Linear(hidden_sizes[2],self.output_size)\n",
    "                             )\n",
    "        return model\n",
    "    \n",
    "    def get_4_layer_model(self):\n",
    "        hidden_sizes = [6,12,24,12]\n",
    "        model = nn.Sequential(nn.Linear(self.input_size,hidden_sizes[0]),\n",
    "                              nn.Sigmoid(),\n",
    "                              nn.Linear(hidden_sizes[0],hidden_sizes[1]),\n",
    "                              nn.Sigmoid(),\n",
    "                              nn.Linear(hidden_sizes[1],hidden_sizes[2]),\n",
    "                              nn.Sigmoid(),\n",
    "                              nn.Linear(hidden_sizes[2],hidden_sizes[3]),\n",
    "                              nn.Sigmoid(),\n",
    "                              nn.Linear(hidden_sizes[3],self.output_size)\n",
    "                             )\n",
    "        return model \n",
    "    def get_5_layer_model(self):\n",
    "        hidden_sizes = [6,12,24,12,6]\n",
    "        model = nn.Sequential(nn.Linear(self.input_size,hidden_sizes[0]),\n",
    "                              nn.Sigmoid(),\n",
    "                              nn.Linear(hidden_sizes[0],hidden_sizes[1]),\n",
    "                              nn.Sigmoid(),\n",
    "                              nn.Linear(hidden_sizes[1],hidden_sizes[2]),\n",
    "                              nn.Sigmoid(),\n",
    "                              nn.Linear(hidden_sizes[2],hidden_sizes[3]),\n",
    "                              nn.Sigmoid(),\n",
    "                              nn.Linear(hidden_sizes[3],hidden_sizes[4]),\n",
    "                              nn.Sigmoid(),\n",
    "                              nn.Linear(hidden_sizes[4],self.output_size)\n",
    "                              \n",
    "                             )\n",
    "        return model     "
   ]
  },
  {
   "cell_type": "code",
   "execution_count": null,
   "metadata": {},
   "outputs": [],
   "source": [
    "number_of_layers = []\n",
    "mse_new = []\n",
    "execution_time_new = []\n",
    "\n",
    "mnn = MutiLayerNeuralNetwork(6,1)\n",
    "    \n",
    "for i in range(5,6) : \n",
    "    number_of_layers.append(i)\n",
    "    start_time = time.time()\n",
    "    method_name = \"get_\"+str(i)+\"_layer_model\"\n",
    "    model = getattr(mnn, method_name)()\n",
    "    learning_rate = 0.00005\n",
    "    criterion = nn.MSELoss() \n",
    "    optimizer = optim.SGD(model.parameters(),learning_rate)\n",
    "    epochs = 100\n",
    "    for e in range(epochs):\n",
    "        running_loss = 0\n",
    "        validation_loss = 0\n",
    "        for (x,y) in train_dataset:\n",
    "            optimizer.zero_grad()\n",
    "            output = model(x)\n",
    "            loss = criterion(output,y)\n",
    "            loss.backward()\n",
    "            optimizer.step()\n",
    "            running_loss += loss.item()     \n",
    "        \n",
    "    final_validation_loss = 0\n",
    "    for  (x,y) in test_dataset:\n",
    "        output = model(x)\n",
    "        loss = criterion(output,y)\n",
    "        final_validation_loss += loss.item()\n",
    "    mse_new.append(final_validation_loss/len(test_dataset))\n",
    "    execution_time_new.append(time.time() - start_time)\n",
    "    print(\"layer \"+str(i)+\"completed \")"
   ]
  },
  {
   "cell_type": "code",
   "execution_count": 59,
   "metadata": {},
   "outputs": [],
   "source": [
    "# values computed in google colab and cloud \n",
    "number_of_layers = [1,2,3,4]\n",
    "mse = [0.0646833102698887,0.0748812712280232,0.0754261877869882,0.0755113973488441]\n",
    "execution_time = [826.500959873199,1145.51496791839,1310.01435708999,1682.9545238018]"
   ]
  },
  {
   "cell_type": "code",
   "execution_count": 60,
   "metadata": {},
   "outputs": [
    {
     "data": {
      "image/png": "[encoded data removed]",
      "text/plain": [
       "<Figure size 432x288 with 2 Axes>"
      ]
     },
     "metadata": {
      "needs_background": "light"
     },
     "output_type": "display_data"
    }
   ],
   "source": [
    "fig, ax1 = plt.subplots()\n",
    "\n",
    "ax2 = ax1.twinx()\n",
    "ax1.plot(number_of_layers, mse, 'g-')\n",
    "ax2.plot(number_of_layers, execution_time, 'b-')\n",
    "\n",
    "ax1.set_xlabel('Number of Hidden Layers')\n",
    "ax1.set_ylabel('MSE', color='g')\n",
    "ax2.set_ylabel('Computation Time', color='b')\n",
    "\n",
    "plt.show()\n"
   ]
  },
  {
   "cell_type": "markdown",
   "metadata": {},
   "source": [
    "## Ans 2 ## \n",
    "As we can see in the above figure increasing the number of layers results in higher MSE and higher computation time . When data is too simple increasing the number of layers results in over fitting . In overfitting model tries to fit the training data but doing this will results in lower test accuracy . That's what is happening in my case . As far as computation time goes increasing number of hidden layers always increases the computation time. We got best MSE results when we had 1 hidden layer which is 0.0646 and computation time required was also minimum . So increasing the number of layers does not always result in improved performance. "
   ]
  },
  {
   "cell_type": "markdown",
   "metadata": {},
   "source": [
    "## conclusion \n",
    "Deciding the architecture of a neural network is a very important process . In particular we also have to tune hyperparameters like  number of hidden layers and number of hidden nodes in each hidden layer. We have to take extra care in each of them so that we don't overfit training data . We also have to take computation time in mind , even though we have modern hardware like gpu it might be expensive for some use cases . Balancing the computation cost with the performance we want is very important. "
   ]
  },
  {
   "cell_type": "code",
   "execution_count": null,
   "metadata": {},
   "outputs": [],
   "source": []
  }
 ],
 "metadata": {
  "kernelspec": {
   "display_name": "Python 3",
   "language": "python",
   "name": "python3"
  },
  "language_info": {
   "codemirror_mode": {
    "name": "ipython",
    "version": 3
   },
   "file_extension": ".py",
   "mimetype": "text/x-python",
   "name": "python",
   "nbconvert_exporter": "python",
   "pygments_lexer": "ipython3",
   "version": "3.7.4"
  }
 },
 "nbformat": 4,
 "nbformat_minor": 2
}
