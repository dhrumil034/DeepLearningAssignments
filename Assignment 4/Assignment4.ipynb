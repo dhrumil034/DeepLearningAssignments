{
 "cells": [
  {
   "cell_type": "markdown",
   "metadata": {},
   "source": [
    "## Assignment 4\n",
    "In This assignement I have taken CIFAR 10 dataset from torchvision library . In general image recongintion deep neural network have following strcuture. <br>\n",
    "1) Convolution layers <br>\n",
    "2) Relu <br>\n",
    "3) Pooling Layer <br>\n",
    "4) Fully Connected linear <br>\n",
    "Based on these structure I have referenced code from (https://github.com/python-engineer/pytorchTutorial/blob/master/14_cnn.py) inorder to implement baseline model in pytorch . Belowe are the changes I have done and compared the performance of those changes with baseline model.<br>\n",
    "1) Implement Dropout regularization<br>\n",
    "2) Instead of using max pooling use average pooling <br>\n",
    "3) Use batch normalization <br>"
   ]
  },
  {
   "cell_type": "markdown",
   "metadata": {},
   "source": [
    "### Step 1 : import necessary library"
   ]
  },
  {
   "cell_type": "code",
   "execution_count": 58,
   "metadata": {},
   "outputs": [],
   "source": [
    "import torch \n",
    "import torchvision \n",
    "import torchvision.transforms as transforms\n",
    "import matplotlib.pyplot as plt\n",
    "import torch.nn.functional as F\n",
    "import torch.nn as nn\n",
    "import time"
   ]
  },
  {
   "cell_type": "code",
   "execution_count": 3,
   "metadata": {},
   "outputs": [],
   "source": [
    "device = torch.device('cuda' if torch.cuda.is_available() else 'cpu')"
   ]
  },
  {
   "cell_type": "code",
   "execution_count": 4,
   "metadata": {},
   "outputs": [
    {
     "data": {
      "text/plain": [
       "device(type='cpu')"
      ]
     },
     "execution_count": 4,
     "metadata": {},
     "output_type": "execute_result"
    }
   ],
   "source": [
    "device"
   ]
  },
  {
   "cell_type": "markdown",
   "metadata": {},
   "source": [
    "### step 2 : Download CIFAR 10 dataset and convert it into tensor"
   ]
  },
  {
   "cell_type": "code",
   "execution_count": 5,
   "metadata": {},
   "outputs": [
    {
     "name": "stdout",
     "output_type": "stream",
     "text": [
      "Files already downloaded and verified\n",
      "Files already downloaded and verified\n"
     ]
    }
   ],
   "source": [
    "data_root =  '../data-unversioned/p1ch7/'\n",
    "transform = transforms.Compose([transforms.ToTensor()])\n",
    "train_dataset =  torchvision.datasets.CIFAR10(root=data_root,train=True,download=True,transform=transform)\n",
    "test_dataset = torchvision.datasets.CIFAR10(root=data_root,train=False,download=True,transform=transform)"
   ]
  },
  {
   "cell_type": "code",
   "execution_count": null,
   "metadata": {},
   "outputs": [],
   "source": [
    "img_t, _ = train_dataset[99]\n",
    "plt.imshow(img_t.permute(1, 2, 0))\n",
    "plt.show()"
   ]
  },
  {
   "cell_type": "markdown",
   "metadata": {},
   "source": [
    "### step 3 :  Normalization of data \n",
    "In this step we have created mean and standarad deviation and normalized the image in order to reduce training time."
   ]
  },
  {
   "cell_type": "code",
   "execution_count": 6,
   "metadata": {},
   "outputs": [],
   "source": [
    "train_img = [img_t for img_t, _ in train_dataset]\n",
    "test_img= ([img_t for img_t, _ in test_dataset])\n",
    "my_img = train_img + test_img\n",
    "imgs = torch.stack(my_img, dim=3)"
   ]
  },
  {
   "cell_type": "code",
   "execution_count": 7,
   "metadata": {},
   "outputs": [
    {
     "data": {
      "text/plain": [
       "tensor([0.4919, 0.4828, 0.4474])"
      ]
     },
     "execution_count": 7,
     "metadata": {},
     "output_type": "execute_result"
    }
   ],
   "source": [
    "imgs.view(3, -1).mean(dim=1)"
   ]
  },
  {
   "cell_type": "code",
   "execution_count": 8,
   "metadata": {},
   "outputs": [
    {
     "data": {
      "text/plain": [
       "tensor([0.2470, 0.2434, 0.2616])"
      ]
     },
     "execution_count": 8,
     "metadata": {},
     "output_type": "execute_result"
    }
   ],
   "source": [
    "imgs.view(3, -1).std(dim=1)"
   ]
  },
  {
   "cell_type": "code",
   "execution_count": 9,
   "metadata": {},
   "outputs": [],
   "source": [
    "transform = transforms.Compose([transforms.ToTensor(),\n",
    "                               transforms.Normalize((0.4919, 0.4828, 0.4474), (0.2470, 0.2434, 0.2616))])"
   ]
  },
  {
   "cell_type": "code",
   "execution_count": 10,
   "metadata": {},
   "outputs": [],
   "source": [
    "train_dataset =  torchvision.datasets.CIFAR10(root=data_root,train=True,download=False,transform=transform)\n",
    "test_dataset = torchvision.datasets.CIFAR10(root=data_root,train=False,download=False,transform=transform)"
   ]
  },
  {
   "cell_type": "code",
   "execution_count": 11,
   "metadata": {},
   "outputs": [
    {
     "name": "stderr",
     "output_type": "stream",
     "text": [
      "Clipping input data to the valid range for imshow with RGB data ([0..1] for floats or [0..255] for integers).\n"
     ]
    },
    {
     "data": {
      "image/png": "[encoded data removed]",
      "text/plain": [
       "<Figure size 432x288 with 1 Axes>"
      ]
     },
     "metadata": {
      "needs_background": "light"
     },
     "output_type": "display_data"
    }
   ],
   "source": [
    "img_t, _ = train_dataset[99]\n",
    "plt.imshow(img_t.permute(1, 2, 0))\n",
    "plt.show()"
   ]
  },
  {
   "cell_type": "markdown",
   "metadata": {},
   "source": [
    "### step 4 : Convert dataset into Dataloader \n",
    "During training process we iterate through data in batch and if we are using stochastic gardient descent then we want \n",
    "to iterate those batches in random order.Using Dataloader makes it easier to dot that."
   ]
  },
  {
   "cell_type": "code",
   "execution_count": 13,
   "metadata": {},
   "outputs": [],
   "source": [
    "num_epochs = 100\n",
    "batch_size = 10\n",
    "learning_rate = 0.001"
   ]
  },
  {
   "cell_type": "code",
   "execution_count": 14,
   "metadata": {},
   "outputs": [],
   "source": [
    "train_loader = torch.utils.data.DataLoader(train_dataset, batch_size=batch_size,\n",
    "                                          shuffle=True)\n",
    "test_loader = torch.utils.data.DataLoader(test_dataset, batch_size=batch_size,\n",
    "                                         shuffle=False)"
   ]
  },
  {
   "cell_type": "code",
   "execution_count": 15,
   "metadata": {},
   "outputs": [],
   "source": [
    "classes = ('plane', 'car', 'bird', 'cat',\n",
    "           'deer', 'dog', 'frog', 'horse', 'ship', 'truck')"
   ]
  },
  {
   "cell_type": "code",
   "execution_count": 16,
   "metadata": {},
   "outputs": [
    {
     "data": {
      "text/plain": [
       "torch.Size([3072])"
      ]
     },
     "execution_count": 16,
     "metadata": {},
     "output_type": "execute_result"
    }
   ],
   "source": [
    "train_dataset[0][0].view(-1).shape"
   ]
  },
  {
   "cell_type": "markdown",
   "metadata": {},
   "source": [
    "### step 5  Implement Model \n",
    "As we have suggested base line model contains 2 convolution with pooling layers and 3 fully connected linear layer after that . Along with baseline model we have created 3 new model and we will compare the performance of all the models.\n",
    "1) Baseline model\n",
    "2) Baseline model with dropout regularization\n",
    "3) Baseline model with average pooling\n",
    "4) Baseline model with batch normalization"
   ]
  },
  {
   "cell_type": "code",
   "execution_count": 17,
   "metadata": {},
   "outputs": [],
   "source": [
    "class ImageClassification(nn.Module):\n",
    "    def __init__(self):\n",
    "        super(ImageClassification,self).__init__()\n",
    "        self.conv1 = nn.Conv2d(3,6,5)\n",
    "        self.pool = nn.MaxPool2d(2,2)\n",
    "        self.conv2 = nn.Conv2d(6,16,5)\n",
    "        self.fc1 = nn.Linear(16*5*5,120)\n",
    "        self.fc2 = nn.Linear(120,84)\n",
    "        self.fc3 = nn.Linear(84,10)\n",
    "    \n",
    "    def forward(self,x):\n",
    "        x = self.pool(F.relu(self.conv1(x)))\n",
    "        x = self.pool(F.relu(self.conv2(x)))\n",
    "        x = F.relu(self.fc1(x.view(-1,16 * 5 * 5)))\n",
    "        x = F.relu(self.fc2(x))\n",
    "        x = self.fc3(x)\n",
    "        return x"
   ]
  },
  {
   "cell_type": "code",
   "execution_count": 20,
   "metadata": {},
   "outputs": [],
   "source": [
    "class ImageClassificationWithDropOut(nn.Module):\n",
    "    def __init__(self):\n",
    "        super(ImageClassificationWithDropOut,self).__init__()\n",
    "        self.conv1 = nn.Conv2d(3,6,5)\n",
    "        self.dropout = nn.Dropout(0.3)\n",
    "        self.pool = nn.MaxPool2d(2,2)\n",
    "        self.conv2 = nn.Conv2d(6,16,5)\n",
    "        self.fc1 = nn.Linear(16*5*5,120)\n",
    "        self.fc2 = nn.Linear(120,84)\n",
    "        self.fc3 = nn.Linear(84,10)\n",
    "    \n",
    "    def forward(self,x):\n",
    "        x = self.pool(F.relu(self.conv1(x)))\n",
    "        x = self.dropout(x)\n",
    "        x = self.pool(F.relu(self.conv2(x)))\n",
    "        x = F.relu(self.fc1(x.view(-1,16 * 5 * 5)))\n",
    "        x = F.relu(self.fc2(x))\n",
    "        x = self.fc3(x)\n",
    "        return x"
   ]
  },
  {
   "cell_type": "code",
   "execution_count": 24,
   "metadata": {},
   "outputs": [],
   "source": [
    "class ImageClassificationWithAvgPooling(nn.Module):\n",
    "     def __init__(self):\n",
    "        super(ImageClassificationWithAvgPooling,self).__init__()\n",
    "        self.conv1 = nn.Conv2d(3,6,5)\n",
    "        self.pool = nn.AvgPool2d(2,2)\n",
    "        self.conv2 = nn.Conv2d(6,16,5)\n",
    "        self.fc1 = nn.Linear(16*5*5,120)\n",
    "        self.fc2 = nn.Linear(120,84)\n",
    "        self.fc3 = nn.Linear(84,10)\n",
    "    \n",
    "     def forward(self,x):\n",
    "        x = self.pool(F.relu(self.conv1(x)))\n",
    "        x = self.pool(F.relu(self.conv2(x)))\n",
    "        x = F.relu(self.fc1(x.view(-1,16 * 5 * 5)))\n",
    "        x = F.relu(self.fc2(x))\n",
    "        x = self.fc3(x)\n",
    "        return x\n",
    "    "
   ]
  },
  {
   "cell_type": "code",
   "execution_count": 42,
   "metadata": {},
   "outputs": [],
   "source": [
    "class ImageClassificationWithBatchNorm(nn.Module):\n",
    "    def __init__(self):\n",
    "        super(ImageClassificationWithBatchNorm,self).__init__()\n",
    "        self.conv1 = nn.Conv2d(3,6,5)\n",
    "        self.pool = nn.MaxPool2d(2,2)\n",
    "        self.conv2 = nn.Conv2d(6,16,5)\n",
    "        self.batchnorm = nn.BatchNorm2d(16)\n",
    "        self.fc1 = nn.Linear(16*5*5,120)\n",
    "        self.fc2 = nn.Linear(120,84)\n",
    "        self.fc3 = nn.Linear(84,10)\n",
    "    \n",
    "    def forward(self,x):\n",
    "        x = self.pool(F.relu(self.conv1(x)))\n",
    "        x = self.conv2(x)\n",
    "        x = self.batchnorm(x)\n",
    "        x = self.pool(F.relu(x))\n",
    "        x = F.relu(self.fc1(x.view(-1,16 * 5 * 5)))\n",
    "        x = F.relu(self.fc2(x))\n",
    "        x = self.fc3(x)\n",
    "        return x\n",
    "     \n",
    "    "
   ]
  },
  {
   "cell_type": "markdown",
   "metadata": {},
   "source": [
    "### step 6 :Train a model \n",
    "In this method we will train the model which will return the train accuracy with epoch,test accuracy with epoch and class_wise_accuracy . "
   ]
  },
  {
   "cell_type": "code",
   "execution_count": 71,
   "metadata": {},
   "outputs": [],
   "source": [
    "def train_model(model):\n",
    "    criterion = nn.CrossEntropyLoss()\n",
    "    optimizer = torch.optim.SGD(model.parameters(),lr=learning_rate)\n",
    "    total_steps = len(train_dataset)\n",
    "    train_accuracy = []\n",
    "    test_accuracy = []\n",
    "    class_wise_accuracy = []\n",
    "    for epochs in range(20):\n",
    "        for i,(images,labels) in enumerate(train_loader):\n",
    "            outputs = model(images)\n",
    "            loss = criterion(outputs,labels)\n",
    "\n",
    "            optimizer.zero_grad()\n",
    "            loss.backward()\n",
    "            optimizer.step()\n",
    "\n",
    "        with torch.no_grad():        \n",
    "            n_correct = 0\n",
    "            n_samples = 0\n",
    "            for images,labels in test_loader:\n",
    "                outputs = model(images)\n",
    "                _,predicted = torch.max(outputs,1)\n",
    "                n_samples += labels.size(0)\n",
    "                n_correct += (predicted==labels).sum().item() \n",
    "            train_accuracy.append(100.0 * n_correct/ n_samples)    \n",
    "            n_correct = 0\n",
    "            n_samples = 0\n",
    "            for images,labels in train_loader:\n",
    "                outputs = model(images)\n",
    "                _,predicted = torch.max(outputs,1)\n",
    "                n_samples += labels.size(0)\n",
    "                n_correct += (predicted==labels).sum().item()\n",
    "            test_accuracy.append(100.0 * n_correct/ n_samples)    \n",
    "                \n",
    "\n",
    "\n",
    "    print('Training Finished')\n",
    "    \n",
    "    with torch.no_grad():\n",
    "        n_correct = 0\n",
    "        n_samples = 0\n",
    "        n_class_correct = [0 for i in range(10)]\n",
    "        n_class_samples = [0 for i in range(10)]\n",
    "\n",
    "        for images,labels in test_loader:\n",
    "            outputs = model(images)\n",
    "            _,predicted = torch.max(outputs,1)\n",
    "            n_samples += labels.size(0)\n",
    "            n_correct += (predicted==labels).sum().item()\n",
    "\n",
    "            for i in range(batch_size):\n",
    "                label = labels[i]\n",
    "                pred = predicted[i]\n",
    "                if(label==pred):\n",
    "                    n_class_correct[label]+=1\n",
    "                n_class_samples[label]+=1\n",
    "        acc = 100.0 * n_correct/ n_samples \n",
    "        print(f'Accuracy of the network : {acc}%')\n",
    "        \n",
    "        for i in range(10):\n",
    "            acc = 100.0 * n_class_correct[i]/n_class_samples[i]\n",
    "            class_wise_accuracy.append(acc)\n",
    "            \n",
    "    return  train_accuracy,test_accuracy,class_wise_accuracy        \n",
    "            "
   ]
  },
  {
   "cell_type": "code",
   "execution_count": 72,
   "metadata": {},
   "outputs": [
    {
     "name": "stdout",
     "output_type": "stream",
     "text": [
      "Training Finished\n",
      "Accuracy of the network : 59.23%\n"
     ]
    }
   ],
   "source": [
    "execution_time = []\n",
    "model = ImageClassification()\n",
    "start_time = time.time()\n",
    "train_accuracy_1,test_accuracy_1,class_wise_accuracy_1= train_model(model)\n",
    "execution_time.append(time.time()-start_time)"
   ]
  },
  {
   "cell_type": "code",
   "execution_count": 81,
   "metadata": {},
   "outputs": [
    {
     "data": {
      "image/png": "[encoded data removed]",
      "text/plain": [
       "<Figure size 432x288 with 1 Axes>"
      ]
     },
     "metadata": {
      "needs_background": "light"
     },
     "output_type": "display_data"
    }
   ],
   "source": [
    "plt.plot(train_accuracy_1, label=\"Baseline Training Accuracy\")\n",
    "plt.plot(test_accuracy_1, label=\"Baseline Test Accuracy\")\n",
    "plt.title(\"epoch vs accuracy Baseline Model\")\n",
    "plt.legend();"
   ]
  },
  {
   "cell_type": "code",
   "execution_count": 74,
   "metadata": {},
   "outputs": [
    {
     "name": "stdout",
     "output_type": "stream",
     "text": [
      "Training Finished\n",
      "Accuracy of the network : 57.67%\n"
     ]
    }
   ],
   "source": [
    "model = ImageClassificationWithDropOut()\n",
    "start_time = time.time()\n",
    "train_accuracy_2,test_accuracy_2,class_wise_accuracy_2= train_model(model)\n",
    "execution_time.append(time.time()-start_time)"
   ]
  },
  {
   "cell_type": "code",
   "execution_count": 82,
   "metadata": {},
   "outputs": [
    {
     "data": {
      "image/png": "[encoded data removed]",
      "text/plain": [
       "<Figure size 432x288 with 1 Axes>"
      ]
     },
     "metadata": {
      "needs_background": "light"
     },
     "output_type": "display_data"
    }
   ],
   "source": [
    "plt.plot(train_accuracy_2, label=\"Training Accuracy With Dropout\")\n",
    "plt.plot(test_accuracy_2, label=\"Test Accuracy With Dropout\")\n",
    "plt.title(\"epoch vs accuracy With Dropout\")\n",
    "plt.legend();"
   ]
  },
  {
   "cell_type": "code",
   "execution_count": 76,
   "metadata": {},
   "outputs": [
    {
     "name": "stdout",
     "output_type": "stream",
     "text": [
      "Training Finished\n",
      "Accuracy of the network : 52.59%\n"
     ]
    }
   ],
   "source": [
    "model = ImageClassificationWithAvgPooling()\n",
    "start_time = time.time()\n",
    "train_accuracy_3,test_accuracy_3,class_wise_accuracy_3= train_model(model)\n",
    "execution_time.append(time.time()-start_time)"
   ]
  },
  {
   "cell_type": "code",
   "execution_count": 83,
   "metadata": {},
   "outputs": [
    {
     "data": {
      "image/png": "[encoded data removed]",
      "text/plain": [
       "<Figure size 432x288 with 1 Axes>"
      ]
     },
     "metadata": {
      "needs_background": "light"
     },
     "output_type": "display_data"
    }
   ],
   "source": [
    "plt.plot(train_accuracy_3, label=\"Training Accuracy With average pooling\")\n",
    "plt.plot(test_accuracy_3, label=\"Test Accuracy With average pooling\")\n",
    "plt.title(\"epoch vs accuracy With average pooling\")\n",
    "plt.legend();"
   ]
  },
  {
   "cell_type": "code",
   "execution_count": 78,
   "metadata": {},
   "outputs": [
    {
     "name": "stdout",
     "output_type": "stream",
     "text": [
      "Training Finished\n",
      "Accuracy of the network : 61.62%\n"
     ]
    }
   ],
   "source": [
    "model = ImageClassificationWithBatchNorm()\n",
    "start_time = time.time()\n",
    "train_accuracy_4,test_accuracy_4,class_wise_accuracy_4= train_model(model)\n",
    "execution_time.append(time.time()-start_time)"
   ]
  },
  {
   "cell_type": "code",
   "execution_count": 84,
   "metadata": {},
   "outputs": [
    {
     "data": {
      "image/png": "[encoded data removed]",
      "text/plain": [
       "<Figure size 432x288 with 1 Axes>"
      ]
     },
     "metadata": {
      "needs_background": "light"
     },
     "output_type": "display_data"
    }
   ],
   "source": [
    "plt.plot(train_accuracy_4, label=\"Training Accuracy With Batch Norm\")\n",
    "plt.plot(test_accuracy_4, label=\"Test Accuracy With Batch Norm\")\n",
    "plt.title(\"epoch vs accuracy With Batch Norm\")\n",
    "plt.legend();"
   ]
  },
  {
   "cell_type": "markdown",
   "metadata": {},
   "source": [
    "### step 7 Conclusion \n",
    "As we can see batch normalization improves the accuracy of the model , while drop out and average pooling doesn't \n",
    "have much impact on the accuracy. One reason for no improvement with dropout regularization might be that we have used dropout probability 0.3 which might be high for small network . Also since My computer don't have gpu I have used 20 iteration , So it might be the case that with increased iteration dropout might give higher accuracy."
   ]
  },
  {
   "cell_type": "code",
   "execution_count": 85,
   "metadata": {},
   "outputs": [
    {
     "data": {
      "text/plain": [
       "[71.4, 62.0, 50.1, 38.6, 49.7, 45.7, 74.6, 63.5, 75.0, 61.7]"
      ]
     },
     "execution_count": 85,
     "metadata": {},
     "output_type": "execute_result"
    }
   ],
   "source": [
    "class_wise_accuracy_1"
   ]
  },
  {
   "cell_type": "code",
   "execution_count": 86,
   "metadata": {},
   "outputs": [
    {
     "data": {
      "text/plain": [
       "[63.5, 62.5, 49.2, 44.1, 46.8, 44.2, 62.2, 65.7, 69.3, 69.2]"
      ]
     },
     "execution_count": 86,
     "metadata": {},
     "output_type": "execute_result"
    }
   ],
   "source": [
    "class_wise_accuracy_2"
   ]
  },
  {
   "cell_type": "code",
   "execution_count": 87,
   "metadata": {},
   "outputs": [
    {
     "data": {
      "text/plain": [
       "[53.4, 57.3, 40.2, 34.6, 53.0, 37.1, 63.8, 62.5, 68.3, 55.7]"
      ]
     },
     "execution_count": 87,
     "metadata": {},
     "output_type": "execute_result"
    }
   ],
   "source": [
    "class_wise_accuracy_3"
   ]
  },
  {
   "cell_type": "code",
   "execution_count": 88,
   "metadata": {},
   "outputs": [
    {
     "data": {
      "text/plain": [
       "[63.5, 73.9, 44.8, 41.9, 62.6, 42.5, 69.9, 70.0, 73.2, 73.9]"
      ]
     },
     "execution_count": 88,
     "metadata": {},
     "output_type": "execute_result"
    }
   ],
   "source": [
    "class_wise_accuracy_4"
   ]
  },
  {
   "cell_type": "code",
   "execution_count": null,
   "metadata": {},
   "outputs": [],
   "source": []
  }
 ],
 "metadata": {
  "kernelspec": {
   "display_name": "Python 3",
   "language": "python",
   "name": "python3"
  },
  "language_info": {
   "codemirror_mode": {
    "name": "ipython",
    "version": 3
   },
   "file_extension": ".py",
   "mimetype": "text/x-python",
   "name": "python",
   "nbconvert_exporter": "python",
   "pygments_lexer": "ipython3",
   "version": "3.7.4"
  }
 },
 "nbformat": 4,
 "nbformat_minor": 2
}
